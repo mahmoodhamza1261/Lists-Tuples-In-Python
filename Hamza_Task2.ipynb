{
  "nbformat": 4,
  "nbformat_minor": 0,
  "metadata": {
    "colab": {
      "provenance": []
    },
    "kernelspec": {
      "name": "python3",
      "display_name": "Python 3"
    },
    "language_info": {
      "name": "python"
    }
  },
  "cells": [
    {
      "cell_type": "markdown",
      "source": [
        "Create a List: Ask the user to input 10 natural numbers and store them in a list. Print the\n",
        "list."
      ],
      "metadata": {
        "id": "_NmEaGmq-Mq9"
      }
    },
    {
      "cell_type": "code",
      "source": [
        "list = []\n",
        "num = 10\n",
        "print(\"Enter 10 natural numbers\")\n",
        "for i in range(num):\n",
        "    list.append(int(input()))\n",
        "print(list)\n"
      ],
      "metadata": {
        "colab": {
          "base_uri": "https://localhost:8080/"
        },
        "id": "isRKjXeE-PLw",
        "outputId": "9e4381ff-16cb-410c-cd83-9726719e96d8"
      },
      "execution_count": 8,
      "outputs": [
        {
          "output_type": "stream",
          "name": "stdout",
          "text": [
            "Enter 10 natural numbers\n",
            "1\n",
            "2\n",
            "34\n",
            "56\n",
            "8\n",
            "56\n",
            "78\n",
            "89\n",
            "70\n",
            "3\n",
            "[1, 2, 34, 56, 8, 56, 78, 89, 70, 3]\n"
          ]
        }
      ]
    },
    {
      "cell_type": "markdown",
      "source": [
        "List Indexing: Given a list of numbers [10, 20, 30, 40, 50], access and print the\n",
        "third element."
      ],
      "metadata": {
        "id": "U__X4mOD_5ob"
      }
    },
    {
      "cell_type": "code",
      "source": [
        "list= [10, 20, 30, 40, 50]\n",
        "print(list[2])"
      ],
      "metadata": {
        "colab": {
          "base_uri": "https://localhost:8080/"
        },
        "id": "wglsVrdYAE8Y",
        "outputId": "fe55fd23-c89d-4a2a-d428-85bf05f796be"
      },
      "execution_count": 9,
      "outputs": [
        {
          "output_type": "stream",
          "name": "stdout",
          "text": [
            "30\n"
          ]
        }
      ]
    },
    {
      "cell_type": "markdown",
      "source": [
        "List Slicing: Given a list of numbers [1, 2, 3, 4, 5, 6, 7, 8, 9, 10], slice the list\n",
        "to get the first 5 elements and print them."
      ],
      "metadata": {
        "id": "umfcNkO6AJ7T"
      }
    },
    {
      "cell_type": "code",
      "source": [
        "list= [1, 2, 3, 4, 5, 6, 7, 8, 9, 10]\n",
        "print(list[:5])\n"
      ],
      "metadata": {
        "colab": {
          "base_uri": "https://localhost:8080/"
        },
        "id": "5cv3ohRpAOvI",
        "outputId": "33b6b4b8-6c48-47d5-96e7-dda8d7a35488"
      },
      "execution_count": 10,
      "outputs": [
        {
          "output_type": "stream",
          "name": "stdout",
          "text": [
            "[1, 2, 3, 4, 5]\n"
          ]
        }
      ]
    },
    {
      "cell_type": "markdown",
      "source": [
        "Append to List: Append the color &#39;purple&#39; to the list of colors [&#39;red&#39;, &#39;blue&#39;,\n",
        "&#39;green&#39;] and print the updated list."
      ],
      "metadata": {
        "id": "c1MPQa9CAUqE"
      }
    },
    {
      "cell_type": "code",
      "source": [
        "list = ['red', 'blue', 'green']\n",
        "list.append('purple')\n",
        "print(list)"
      ],
      "metadata": {
        "colab": {
          "base_uri": "https://localhost:8080/"
        },
        "id": "TdpWJzkrAnpJ",
        "outputId": "b2f9e16f-0763-4d37-e16f-bda8e29ced88"
      },
      "execution_count": 11,
      "outputs": [
        {
          "output_type": "stream",
          "name": "stdout",
          "text": [
            "['red', 'blue', 'green', 'purple']\n"
          ]
        }
      ]
    },
    {
      "cell_type": "markdown",
      "source": [
        "Extend List: Extend the list of fruits [&#39;apple&#39;, &#39;banana&#39;] with another list\n",
        "[&#39;cherry&#39;, &#39;date&#39;] and print the updated list."
      ],
      "metadata": {
        "id": "8vlT9ZY_Atw5"
      }
    },
    {
      "cell_type": "code",
      "source": [
        "list1 = ['apple', 'banana']\n",
        "list2 = ['cherry', 'date']\n",
        "list1.extend(list2)\n",
        "print(list1)"
      ],
      "metadata": {
        "colab": {
          "base_uri": "https://localhost:8080/"
        },
        "id": "B9dcsI5DA7HP",
        "outputId": "cef1c73e-887a-4ba6-a466-4a4930255c84"
      },
      "execution_count": 12,
      "outputs": [
        {
          "output_type": "stream",
          "name": "stdout",
          "text": [
            "['apple', 'banana', 'cherry', 'date']\n"
          ]
        }
      ]
    },
    {
      "cell_type": "markdown",
      "source": [
        "Insert into List: Insert the number 15 at the second position in the list [10, 20, 30]\n",
        "and print the updated list."
      ],
      "metadata": {
        "id": "OQqg5-r9BCty"
      }
    },
    {
      "cell_type": "code",
      "source": [
        "list = [10, 20, 30]\n",
        "list.insert(1, 15)\n",
        "print(list)"
      ],
      "metadata": {
        "colab": {
          "base_uri": "https://localhost:8080/"
        },
        "id": "bgIjuznQBDbT",
        "outputId": "f4f87beb-e642-4b4d-cf8e-f1392928fa16"
      },
      "execution_count": 13,
      "outputs": [
        {
          "output_type": "stream",
          "name": "stdout",
          "text": [
            "[10, 15, 20, 30]\n"
          ]
        }
      ]
    },
    {
      "cell_type": "markdown",
      "source": [
        "Remove from List: Remove the first occurrence of the element &#39;banana&#39; from the list\n",
        "[&#39;apple&#39;, &#39;banana&#39;, &#39;cherry&#39;, &#39;banana&#39;] and print the updated list."
      ],
      "metadata": {
        "id": "rJQNsQ6MBNkX"
      }
    },
    {
      "cell_type": "code",
      "source": [
        "list = ['apple', 'banana', 'cherry', 'banana']\n",
        "list.remove('banana')\n",
        "print(list)"
      ],
      "metadata": {
        "colab": {
          "base_uri": "https://localhost:8080/"
        },
        "id": "9zVbbKh9BPHX",
        "outputId": "9a79522b-6bef-4a9d-ec47-d8304b5a9cc3"
      },
      "execution_count": 14,
      "outputs": [
        {
          "output_type": "stream",
          "name": "stdout",
          "text": [
            "['apple', 'cherry', 'banana']\n"
          ]
        }
      ]
    },
    {
      "cell_type": "markdown",
      "source": [
        "Pop from List: Pop the last element from the list [1, 2, 3, 4, 5], print the popped\n",
        "element, and the updated list."
      ],
      "metadata": {
        "id": "PInRI_RvBbbX"
      }
    },
    {
      "cell_type": "code",
      "source": [
        "list= [1, 2, 3, 4, 5]\n",
        "popped = list.pop()\n",
        "print(popped)\n",
        "print(list)"
      ],
      "metadata": {
        "colab": {
          "base_uri": "https://localhost:8080/"
        },
        "id": "rcwXmx0kBccs",
        "outputId": "fdbb5e9b-15bc-4056-cf39-dd0891df58ef"
      },
      "execution_count": 16,
      "outputs": [
        {
          "output_type": "stream",
          "name": "stdout",
          "text": [
            "5\n",
            "[1, 2, 3, 4]\n"
          ]
        }
      ]
    },
    {
      "cell_type": "markdown",
      "source": [
        "Reverse List: Reverse the list [1, 2, 3, 4, 5] and print the reversed list."
      ],
      "metadata": {
        "id": "5K3JLbceBmHk"
      }
    },
    {
      "cell_type": "code",
      "source": [
        "list=[1,2,3,4,5]\n",
        "list.sort(reverse=True)\n",
        "print(list)"
      ],
      "metadata": {
        "colab": {
          "base_uri": "https://localhost:8080/"
        },
        "id": "_L7J33OVBnZ8",
        "outputId": "a3079f78-157c-4947-8ffa-85dab3d3502c"
      },
      "execution_count": 18,
      "outputs": [
        {
          "output_type": "stream",
          "name": "stdout",
          "text": [
            "[5, 4, 3, 2, 1]\n"
          ]
        }
      ]
    },
    {
      "cell_type": "markdown",
      "source": [
        "Sort List: Sort the list of names [&#39;John&#39;, &#39;Alice&#39;, &#39;Bob&#39;] in alphabetical order and\n",
        "print the sorted list."
      ],
      "metadata": {
        "id": "vEVoHrgdB1R4"
      }
    },
    {
      "cell_type": "code",
      "source": [
        "list = ['John', 'Alice', 'Bob']\n",
        "list.sort()\n",
        "print(list)"
      ],
      "metadata": {
        "colab": {
          "base_uri": "https://localhost:8080/"
        },
        "id": "02mwA3r-B5Ro",
        "outputId": "3216d8df-7703-4a20-a5dd-f4eee4799104"
      },
      "execution_count": 19,
      "outputs": [
        {
          "output_type": "stream",
          "name": "stdout",
          "text": [
            "['Alice', 'Bob', 'John']\n"
          ]
        }
      ]
    },
    {
      "cell_type": "markdown",
      "source": [
        "List Comprehension: Create a list of squares of the first 10 natural numbers  and print the list."
      ],
      "metadata": {
        "id": "NpyypCx3B-8W"
      }
    },
    {
      "cell_type": "code",
      "source": [
        "list=[]\n",
        "for i in range(10):\n",
        "    list.append(i**2)\n",
        "print(list)\n"
      ],
      "metadata": {
        "colab": {
          "base_uri": "https://localhost:8080/"
        },
        "id": "b4tcZeejCaAh",
        "outputId": "87909272-185e-4020-c1e5-f4a024d48401"
      },
      "execution_count": 20,
      "outputs": [
        {
          "output_type": "stream",
          "name": "stdout",
          "text": [
            "[0, 1, 4, 9, 16, 25, 36, 49, 64, 81]\n"
          ]
        }
      ]
    },
    {
      "cell_type": "markdown",
      "source": [
        "12. Find Max and Min: Find the maximum and minimum values in the list [4, 2, 8, 6,\n",
        "5] and print them."
      ],
      "metadata": {
        "id": "R6udi_hFC2Ui"
      }
    },
    {
      "cell_type": "code",
      "source": [
        "list = [4, 2, 8, 6, 5]\n",
        "print(max(list))\n",
        "print(min(list))"
      ],
      "metadata": {
        "colab": {
          "base_uri": "https://localhost:8080/"
        },
        "id": "1t0IA7znC3cq",
        "outputId": "9237c6b2-6175-4b3e-959e-1b46e3b5a9b8"
      },
      "execution_count": 21,
      "outputs": [
        {
          "output_type": "stream",
          "name": "stdout",
          "text": [
            "8\n",
            "2\n"
          ]
        }
      ]
    },
    {
      "cell_type": "markdown",
      "source": [
        "13. Sum of Elements: Calculate the sum of all elements in the list [4, 2, 8, 6, 5] and\n",
        "print it."
      ],
      "metadata": {
        "id": "v1I4XQ_TC9Ca"
      }
    },
    {
      "cell_type": "code",
      "source": [
        "list = [4, 2, 8, 6, 5]\n",
        "print(sum(list))\n",
        "\n"
      ],
      "metadata": {
        "colab": {
          "base_uri": "https://localhost:8080/"
        },
        "id": "RUn0pJ4NC-Zq",
        "outputId": "b89ae3dd-7d00-4132-ea2a-b2b7e22856d5"
      },
      "execution_count": 22,
      "outputs": [
        {
          "output_type": "stream",
          "name": "stdout",
          "text": [
            "25\n"
          ]
        }
      ]
    },
    {
      "cell_type": "markdown",
      "source": [
        "14. Product of Elements: Calculate the product of all elements in the list [1, 2, 3, 4] and\n",
        "print it."
      ],
      "metadata": {
        "id": "qs-91G6kDF9w"
      }
    },
    {
      "cell_type": "code",
      "source": [
        "list = [1, 2, 3, 4]\n",
        "product = 1\n",
        "for num in list:\n",
        "    product *= num\n",
        "print(product)"
      ],
      "metadata": {
        "colab": {
          "base_uri": "https://localhost:8080/"
        },
        "id": "XfUdF6k8DGkA",
        "outputId": "da33e1bc-ce65-428a-d1e4-7e1a6f2b4b9d"
      },
      "execution_count": 23,
      "outputs": [
        {
          "output_type": "stream",
          "name": "stdout",
          "text": [
            "24\n"
          ]
        }
      ]
    },
    {
      "cell_type": "markdown",
      "source": [
        "15. Remove Duplicates: Remove duplicate elements from the list [1, 2, 2, 3, 4, 4, 5]\n",
        "and print the updated list."
      ],
      "metadata": {
        "id": "XGyWAJGHDT_V"
      }
    },
    {
      "cell_type": "code",
      "source": [
        "list = [1, 2, 2, 3, 4, 4, 5]\n",
        "unique_list = []\n",
        "for num in list:\n",
        "    if num not in unique_list:\n",
        "        unique_list.append(num)\n",
        "print(unique_list)"
      ],
      "metadata": {
        "colab": {
          "base_uri": "https://localhost:8080/"
        },
        "id": "XUBDlgYbDUtt",
        "outputId": "adb69290-5114-41b4-a4e1-d1db7c3af207"
      },
      "execution_count": 24,
      "outputs": [
        {
          "output_type": "stream",
          "name": "stdout",
          "text": [
            "[1, 2, 3, 4, 5]\n"
          ]
        }
      ]
    },
    {
      "cell_type": "markdown",
      "source": [
        "16. List of Even Numbers: Create a list of even numbers from the given list [1, 2, 3, 4,\n",
        "5, 6, 7, 8, 9, 10] and print it."
      ],
      "metadata": {
        "id": "Ggh15L4zDi3b"
      }
    },
    {
      "cell_type": "code",
      "source": [
        "list1 = [1, 2, 3, 4, 5, 6, 7, 8, 9, 10]\n",
        "list2=[]\n",
        "for num in list:\n",
        "    if num % 2 == 0:\n",
        "        list2.append(num)\n",
        "print(list2)"
      ],
      "metadata": {
        "colab": {
          "base_uri": "https://localhost:8080/"
        },
        "id": "HC4CxFflDjv7",
        "outputId": "7631213c-84dc-48e7-bc41-3723beaac8f8"
      },
      "execution_count": 26,
      "outputs": [
        {
          "output_type": "stream",
          "name": "stdout",
          "text": [
            "[2, 4, 6, 8, 10]\n"
          ]
        }
      ]
    },
    {
      "cell_type": "markdown",
      "source": [
        "17. List to String: Convert the list of characters [&#39;H&#39;, &#39;e&#39;, &#39;l&#39;, &#39;l&#39;, &#39;o&#39;] to a string\n",
        "and print it."
      ],
      "metadata": {
        "id": "9kcFs4pfDx4Q"
      }
    },
    {
      "cell_type": "code",
      "source": [
        "list = ['H', 'e', 'l', 'l', 'o']\n",
        "string = ''.join(list)\n",
        "print(string)\n",
        "\n",
        "\n",
        "\n",
        "\n"
      ],
      "metadata": {
        "colab": {
          "base_uri": "https://localhost:8080/"
        },
        "id": "XWg1BFmvEDT9",
        "outputId": "d57553a1-3a15-4cbb-cbc6-a609d41ff222"
      },
      "execution_count": 36,
      "outputs": [
        {
          "output_type": "stream",
          "name": "stdout",
          "text": [
            "Hello\n"
          ]
        }
      ]
    },
    {
      "cell_type": "markdown",
      "source": [
        "18. String to List: Convert the string &quot;Hello&quot; to a list of characters and print it."
      ],
      "metadata": {
        "id": "BY4riGm5FzTS"
      }
    },
    {
      "cell_type": "code",
      "source": [
        "string= 'Hello'\n",
        "list=[]\n",
        "for i in string:\n",
        "    list.append(i)\n",
        "print(list)\n"
      ],
      "metadata": {
        "colab": {
          "base_uri": "https://localhost:8080/"
        },
        "id": "kvoQJWvsF0Ej",
        "outputId": "e062357b-e2ac-46e3-e8e6-0e521413eeab"
      },
      "execution_count": 39,
      "outputs": [
        {
          "output_type": "stream",
          "name": "stdout",
          "text": [
            "['H', 'e', 'l', 'l', 'o']\n"
          ]
        }
      ]
    },
    {
      "cell_type": "markdown",
      "source": [
        "19. Create a Tuple: Create a tuple with different data types (e.g., integer, float, string) and\n",
        "print it."
      ],
      "metadata": {
        "id": "IDtQxJylGMJA"
      }
    },
    {
      "cell_type": "code",
      "source": [
        "tuple = (1, 2.5, 'Hello')\n",
        "print(tuple)"
      ],
      "metadata": {
        "colab": {
          "base_uri": "https://localhost:8080/"
        },
        "id": "6-1hjK_5GMzo",
        "outputId": "ce9983d7-d8b0-4792-d730-a818a0add1ab"
      },
      "execution_count": 40,
      "outputs": [
        {
          "output_type": "stream",
          "name": "stdout",
          "text": [
            "(1, 2.5, 'Hello')\n"
          ]
        }
      ]
    },
    {
      "cell_type": "markdown",
      "source": [
        "20. Access Tuple Elements: Given a tuple (&#39;a&#39;, &#39;b&#39;, &#39;c&#39;, &#39;d&#39;), access and print the\n",
        "second element."
      ],
      "metadata": {
        "id": "hvdvkjTfGSlu"
      }
    },
    {
      "cell_type": "code",
      "source": [
        "tuple = ('a', 'b', 'c', 'd')\n",
        "print(tuple[1])"
      ],
      "metadata": {
        "colab": {
          "base_uri": "https://localhost:8080/"
        },
        "id": "EUurAMhXGTKv",
        "outputId": "2496e084-62c2-4687-c57e-3aeb5902032e"
      },
      "execution_count": 41,
      "outputs": [
        {
          "output_type": "stream",
          "name": "stdout",
          "text": [
            "b\n"
          ]
        }
      ]
    },
    {
      "cell_type": "markdown",
      "source": [
        "21. Unpack Tuple: Unpack the tuple (1, 2, 3) into three variables and print them."
      ],
      "metadata": {
        "id": "QqQZEOHiGbku"
      }
    },
    {
      "cell_type": "code",
      "source": [
        "tuple = (1, 2, 3)\n",
        "a, b, c = tuple\n",
        "print(a, b, c)\n"
      ],
      "metadata": {
        "colab": {
          "base_uri": "https://localhost:8080/"
        },
        "id": "vM2rLHQsGcgu",
        "outputId": "6c69cfd6-4cb1-44bc-beb8-361012812dfe"
      },
      "execution_count": 45,
      "outputs": [
        {
          "output_type": "stream",
          "name": "stdout",
          "text": [
            "1 2 3\n"
          ]
        }
      ]
    },
    {
      "cell_type": "markdown",
      "source": [
        "22. Concatenate Tuples: Concatenate the tuples (1, 2) and (3, 4) and print the result."
      ],
      "metadata": {
        "id": "IXRSgcRNGqsr"
      }
    },
    {
      "cell_type": "code",
      "source": [
        "tuple1 = (1, 2)\n",
        "tuple2 = (3, 4)\n",
        "tuple3 = tuple1 + tuple2\n",
        "print(tuple3)"
      ],
      "metadata": {
        "colab": {
          "base_uri": "https://localhost:8080/"
        },
        "id": "ykX4wyM4GrM1",
        "outputId": "05950490-6c33-43ea-a40c-d7d34f1206ae"
      },
      "execution_count": 46,
      "outputs": [
        {
          "output_type": "stream",
          "name": "stdout",
          "text": [
            "(1, 2, 3, 4)\n"
          ]
        }
      ]
    },
    {
      "cell_type": "markdown",
      "source": [
        "23. Repeat Tuple: Repeat the tuple (1, 2, 3) three times and print the result."
      ],
      "metadata": {
        "id": "0UiBKmM0Gv3q"
      }
    },
    {
      "cell_type": "code",
      "source": [
        "tuple = (1, 2, 3)\n",
        "repeated_tuple = tuple * 3\n",
        "print(repeated_tuple)"
      ],
      "metadata": {
        "colab": {
          "base_uri": "https://localhost:8080/"
        },
        "id": "l5axSKvjGwpK",
        "outputId": "63b0bf22-ebac-4a95-be01-101645b09221"
      },
      "execution_count": 47,
      "outputs": [
        {
          "output_type": "stream",
          "name": "stdout",
          "text": [
            "(1, 2, 3, 1, 2, 3, 1, 2, 3)\n"
          ]
        }
      ]
    },
    {
      "cell_type": "markdown",
      "source": [
        "24. Tuple Slicing: Slice the tuple (1, 2, 3, 4, 5) to get the last three elements and print\n",
        "them."
      ],
      "metadata": {
        "id": "IhiSCX-eG2WK"
      }
    },
    {
      "cell_type": "code",
      "source": [
        "tuple = (1, 2, 3, 4, 5)\n",
        "last_three_elements = tuple[-3:]\n",
        "print(last_three_elements)"
      ],
      "metadata": {
        "colab": {
          "base_uri": "https://localhost:8080/"
        },
        "id": "K073FyCYG2-S",
        "outputId": "73f60a65-2e4d-4339-d070-e7551623560a"
      },
      "execution_count": 48,
      "outputs": [
        {
          "output_type": "stream",
          "name": "stdout",
          "text": [
            "(3, 4, 5)\n"
          ]
        }
      ]
    },
    {
      "cell_type": "markdown",
      "source": [
        "25. Check Element in Tuple: Check if the element &#39;b&#39; exists in the tuple (&#39;a&#39;, &#39;b&#39;, &#39;c&#39;)\n",
        "and print the result."
      ],
      "metadata": {
        "id": "tHfrE3ejG-w5"
      }
    },
    {
      "cell_type": "code",
      "source": [
        "tuple = ('a', 'b', 'c')\n",
        "if 'b' in tuple:\n",
        "    print('b exists in the tuple')\n",
        "else:\n",
        "    print('b does not exist in the tuple')"
      ],
      "metadata": {
        "colab": {
          "base_uri": "https://localhost:8080/"
        },
        "id": "K_R1myXZG_Ux",
        "outputId": "89c8fa8e-e3e1-4a65-8239-e3b3360d0cbd"
      },
      "execution_count": 49,
      "outputs": [
        {
          "output_type": "stream",
          "name": "stdout",
          "text": [
            "b exists in the tuple\n"
          ]
        }
      ]
    },
    {
      "cell_type": "markdown",
      "source": [
        "26. Count Tuple Elements: Count the occurrences of the element 2 in the tuple (1, 2, 2,\n",
        "3, 4) and print the result."
      ],
      "metadata": {
        "id": "kGuUvRjrHFLY"
      }
    },
    {
      "cell_type": "code",
      "source": [
        "tuple = (1, 2, 2, 3, 4)\n",
        "count = tuple.count(2)\n",
        "print(count)\n"
      ],
      "metadata": {
        "colab": {
          "base_uri": "https://localhost:8080/"
        },
        "id": "vDuEceqrHHTo",
        "outputId": "0524bcf0-2130-4ca1-ad14-a9c3528b3ad8"
      },
      "execution_count": 50,
      "outputs": [
        {
          "output_type": "stream",
          "name": "stdout",
          "text": [
            "2\n"
          ]
        }
      ]
    },
    {
      "cell_type": "markdown",
      "source": [
        "27. Index of Element in Tuple: Find the index of the element &#39;c&#39; in the tuple (&#39;a&#39;, &#39;b&#39;,\n",
        "&#39;c&#39;, &#39;d&#39;) and print it."
      ],
      "metadata": {
        "id": "WJmhnHGFHNPW"
      }
    },
    {
      "cell_type": "code",
      "source": [
        "tuple = ('a', 'b', 'c', 'd')\n",
        "index = tuple.index('c')\n",
        "print(index)"
      ],
      "metadata": {
        "colab": {
          "base_uri": "https://localhost:8080/"
        },
        "id": "M-qYKsVNHNuH",
        "outputId": "e2a5aba7-986a-4436-b2b8-954660f68bf4"
      },
      "execution_count": 51,
      "outputs": [
        {
          "output_type": "stream",
          "name": "stdout",
          "text": [
            "2\n"
          ]
        }
      ]
    },
    {
      "cell_type": "markdown",
      "source": [
        "28. Convert Tuple to List: Convert the tuple (1, 2, 3) to a list and print it."
      ],
      "metadata": {
        "id": "SeR8wQ1DHTsu"
      }
    },
    {
      "cell_type": "code",
      "source": [
        "tuple = (1, 2, 3)\n",
        "list = []\n",
        "for i in tuple:\n",
        "    list.append(i)\n",
        "print(list)\n"
      ],
      "metadata": {
        "colab": {
          "base_uri": "https://localhost:8080/"
        },
        "id": "fiIzj_02HUgn",
        "outputId": "8a1455f0-42ec-4a5f-b58b-54c96673fa20"
      },
      "execution_count": 57,
      "outputs": [
        {
          "output_type": "stream",
          "name": "stdout",
          "text": [
            "[1, 2, 3]\n"
          ]
        }
      ]
    },
    {
      "cell_type": "markdown",
      "source": [
        "29. Convert List to Tuple: Convert the list [1, 2, 3] to a tuple and print it."
      ],
      "metadata": {
        "id": "ZQQbR0RsH_hL"
      }
    },
    {
      "cell_type": "code",
      "source": [
        "list = [1, 2, 3]\n",
        "tuple = ()\n",
        "for i in list:\n",
        "    tuple += (i,)\n",
        "print(tuple)\n",
        "\n"
      ],
      "metadata": {
        "colab": {
          "base_uri": "https://localhost:8080/"
        },
        "id": "0OXtk43GIAQZ",
        "outputId": "13113d17-c448-4f95-92c8-4d7ea3f1a69d"
      },
      "execution_count": 60,
      "outputs": [
        {
          "output_type": "stream",
          "name": "stdout",
          "text": [
            "(1, 2, 3)\n"
          ]
        }
      ]
    },
    {
      "cell_type": "markdown",
      "source": [
        "30. Nested Tuples: Create a nested tuple ((1, 2), (3, 4), (5, 6)) and print the first\n",
        "element of the second tuple."
      ],
      "metadata": {
        "id": "EKA9Uy2PIZcN"
      }
    },
    {
      "cell_type": "code",
      "source": [
        "nested_tuple = ((1, 2), (3, 4), (5, 6))\n",
        "print(nested_tuple[1][0])"
      ],
      "metadata": {
        "colab": {
          "base_uri": "https://localhost:8080/"
        },
        "id": "fjw_OBIjIaP9",
        "outputId": "feee95df-055e-4b95-d362-300629e248b0"
      },
      "execution_count": 61,
      "outputs": [
        {
          "output_type": "stream",
          "name": "stdout",
          "text": [
            "3\n"
          ]
        }
      ]
    }
  ]
}